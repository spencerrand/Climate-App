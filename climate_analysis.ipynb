{
 "cells": [
  {
   "cell_type": "code",
   "execution_count": 1,
   "metadata": {
    "collapsed": true
   },
   "outputs": [],
   "source": [
    "# Import dependencies\n",
    "import pandas as pd\n",
    "import sqlalchemy\n",
    "from sqlalchemy import create_engine, func\n",
    "from sqlalchemy.ext.automap import automap_base\n",
    "from sqlalchemy import Column, Integer, String, Float\n",
    "from sqlalchemy.orm import Session\n",
    "import datetime as dt\n",
    "import matplotlib\n",
    "from matplotlib import style\n",
    "style.use('fivethirtyeight')\n",
    "import matplotlib.pyplot as plt "
   ]
  },
  {
   "cell_type": "code",
   "execution_count": 2,
   "metadata": {
    "collapsed": true
   },
   "outputs": [],
   "source": [
    "# Create the connection engine to the sqlite database\n",
    "engine = create_engine(\"sqlite:///data/hawaii.sqlite\")"
   ]
  },
  {
   "cell_type": "code",
   "execution_count": 3,
   "metadata": {
    "collapsed": true
   },
   "outputs": [],
   "source": [
    "# Establish Base for which classes will be constructed \n",
    "Base = automap_base()"
   ]
  },
  {
   "cell_type": "code",
   "execution_count": 4,
   "metadata": {
    "collapsed": true
   },
   "outputs": [],
   "source": [
    "# Use the Base class to reflect the database tables\n",
    "Base.prepare(engine, reflect=True)"
   ]
  },
  {
   "cell_type": "code",
   "execution_count": 5,
   "metadata": {
    "collapsed": true
   },
   "outputs": [],
   "source": [
    "# Assign the demographics class to a variable called `Demographics`\n",
    "Station = Base.classes.stations"
   ]
  },
  {
   "cell_type": "code",
   "execution_count": 6,
   "metadata": {
    "collapsed": true
   },
   "outputs": [],
   "source": [
    "# Assign the demographics class to a variable called `Demographics`\n",
    "Measurement = Base.classes.measurements"
   ]
  },
  {
   "cell_type": "code",
   "execution_count": 7,
   "metadata": {
    "collapsed": true
   },
   "outputs": [],
   "source": [
    "# To push the objects made and query the server we use a Session object\n",
    "session = Session(bind=engine)"
   ]
  },
  {
   "cell_type": "markdown",
   "metadata": {},
   "source": [
    "<h1>Precipitation Analysis</h1>"
   ]
  },
  {
   "cell_type": "code",
   "execution_count": 8,
   "metadata": {},
   "outputs": [
    {
     "name": "stdout",
     "output_type": "stream",
     "text": [
      "Most recent date: 2017-08-23\n",
      "Date 12 months ago: 2016-08-23\n"
     ]
    }
   ],
   "source": [
    "# Calculate latest date in measurements table\n",
    "latest_date = session.query(Measurement.date).order_by(Measurement.date.desc()).first()[0]\n",
    "\n",
    "# Convert latest date to datetime object\n",
    "latest_date_dt = dt.datetime.strptime(latest_date, '%Y-%m-%d')\n",
    "\n",
    "# Calculate date 12 months ago as datetime object\n",
    "year_ago_date_dt = latest_date_dt - dt.timedelta(days=365)\n",
    "\n",
    "# Convert date 12 months ago to string\n",
    "year_ago_date = year_ago_date_dt.strftime('%Y-%m-%d')\n",
    "\n",
    "# Print out results\n",
    "print(f\"Most recent date: {latest_date}\" + \"\\n\" + f\"Date 12 months ago: {year_ago_date}\")"
   ]
  },
  {
   "cell_type": "code",
   "execution_count": 12,
   "metadata": {},
   "outputs": [
    {
     "data": {
      "image/png": "[encoded data removed]",
      "text/plain": [
       "<matplotlib.figure.Figure at 0x2751e2ade48>"
      ]
     },
     "metadata": {},
     "output_type": "display_data"
    }
   ],
   "source": [
    "# Retrieve the last 12 months of precipitation data.\n",
    "last_12_months_precip = session.query(Measurement.date, func.sum(Measurement.prcp))\\\n",
    "                    .filter(Measurement.date >= year_ago_date)\\\n",
    "                    .group_by(Measurement.date)\\\n",
    "                    .order_by(Measurement.date).all()\n",
    "              \n",
    "#Load the query results into a Pandas DataFrame and set the index to the date column. \n",
    "last_12_months_precip_df = pd.DataFrame(last_12_months_precip, columns=['date', 'prcp'])\n",
    "last_12_months_precip_df = last_12_months_precip_df.set_index('date')\n",
    "\n",
    "#Plot the results using the DataFrame plot method.\n",
    "last_12_months_precip_df.plot()\n",
    "\n",
    "# Rotate the xticks for the dates\n",
    "plt.xticks(rotation='45')\n",
    "plt.show() "
   ]
  },
  {
   "cell_type": "code",
   "execution_count": 14,
   "metadata": {},
   "outputs": [
    {
     "data": {
      "text/html": [
       "<div>\n",
       "<style>\n",
       "    .dataframe thead tr:only-child th {\n",
       "        text-align: right;\n",
       "    }\n",
       "\n",
       "    .dataframe thead th {\n",
       "        text-align: left;\n",
       "    }\n",
       "\n",
       "    .dataframe tbody tr th {\n",
       "        vertical-align: top;\n",
       "    }\n",
       "</style>\n",
       "<table border=\"1\" class=\"dataframe\">\n",
       "  <thead>\n",
       "    <tr style=\"text-align: right;\">\n",
       "      <th></th>\n",
       "      <th>prcp</th>\n",
       "    </tr>\n",
       "  </thead>\n",
       "  <tbody>\n",
       "    <tr>\n",
       "      <th>count</th>\n",
       "      <td>366.000000</td>\n",
       "    </tr>\n",
       "    <tr>\n",
       "      <th>mean</th>\n",
       "      <td>0.978907</td>\n",
       "    </tr>\n",
       "    <tr>\n",
       "      <th>std</th>\n",
       "      <td>1.776349</td>\n",
       "    </tr>\n",
       "    <tr>\n",
       "      <th>min</th>\n",
       "      <td>0.000000</td>\n",
       "    </tr>\n",
       "    <tr>\n",
       "      <th>25%</th>\n",
       "      <td>0.052500</td>\n",
       "    </tr>\n",
       "    <tr>\n",
       "      <th>50%</th>\n",
       "      <td>0.405000</td>\n",
       "    </tr>\n",
       "    <tr>\n",
       "      <th>75%</th>\n",
       "      <td>1.087500</td>\n",
       "    </tr>\n",
       "    <tr>\n",
       "      <th>max</th>\n",
       "      <td>14.280000</td>\n",
       "    </tr>\n",
       "  </tbody>\n",
       "</table>\n",
       "</div>"
      ],
      "text/plain": [
       "             prcp\n",
       "count  366.000000\n",
       "mean     0.978907\n",
       "std      1.776349\n",
       "min      0.000000\n",
       "25%      0.052500\n",
       "50%      0.405000\n",
       "75%      1.087500\n",
       "max     14.280000"
      ]
     },
     "execution_count": 14,
     "metadata": {},
     "output_type": "execute_result"
    }
   ],
   "source": [
    "last_12_months_precip_df.describe()"
   ]
  },
  {
   "cell_type": "markdown",
   "metadata": {},
   "source": [
    "<h1>Station Analysis</h1>"
   ]
  },
  {
   "cell_type": "code",
   "execution_count": 17,
   "metadata": {},
   "outputs": [
    {
     "name": "stdout",
     "output_type": "stream",
     "text": [
      "There are 9 stations.\n",
      "\n",
      "The most active station is USC00514830 with 1937 measurements.\n",
      "\n",
      "List of stations and number of observations\n",
      " [('USC00519397', 200205), ('USC00519281', 198652), ('USC00513117', 195940), ('USC00519523', 191698), ('USC00516128', 176029), ('USC00514830', 144913), ('USC00511918', 138191), ('USC00517948', 50943), ('USC00518838', 24855)] \n",
      "\n",
      "The station with the highest number of observations is USC00519397 with 200205 observations.\n"
     ]
    }
   ],
   "source": [
    "# Calculate the total number of stations.\n",
    "station_count = session.query(Station.station).count()\n",
    "print(f\"There are {station_count} stations.\" + \"\\n\")\n",
    "\n",
    "# Find the most active stations.\n",
    "stations_by_measurements = session.query(Measurement.station, func.count(Measurement.tobs))\\\n",
    "                        .group_by(Measurement.station)\\\n",
    "                        .order_by(Measurement.tobs.desc()).first()\n",
    "most_active_station = stations_by_measurements[0]\n",
    "most_active_station_obs = stations_by_measurements[1]\n",
    "print(f\"The most active station is {most_active_station} with {most_active_station_obs} measurements.\" + \"\\n\")\n",
    "\n",
    "# List the stations and observation counts in descending order\n",
    "# Which station has the highest number of observations?\n",
    "\n",
    "stations_by_obs = session.query(Measurement.station, func.sum(Measurement.tobs))\\\n",
    "                    .group_by(Measurement.station)\\\n",
    "                    .order_by(func.sum(Measurement.tobs).desc()).all()\n",
    "print(\"List of stations and number of observations\" + \"\\n\", stations_by_obs, \"\\n\")\n",
    "station_max_obs_name = stations_by_obs[0][0]\n",
    "station_max_obs_tobs = stations_by_obs[0][1]\n",
    "print(\"The station with the highest number of observations is\", station_max_obs_name, \"with\", station_max_obs_tobs,\n",
    "     \"observations.\")\n",
    "\n",
    "# Retrieve the last 12 months of temperature observation data (tobs).\n",
    "# Filtered by the station with the highest number of observations.\n",
    "tobs_by_max_station = session.query(Measurement.tobs)\\\n",
    "                    .filter(Measurement.date >= year_ago_date)\\\n",
    "                    .filter(Measurement.station == station_max_obs_name).all()"
   ]
  },
  {
   "cell_type": "code",
   "execution_count": 18,
   "metadata": {},
   "outputs": [
    {
     "data": {
      "image/png": "[encoded data removed]",
      "text/plain": [
       "<matplotlib.figure.Figure at 0x2751f89a8d0>"
      ]
     },
     "metadata": {},
     "output_type": "display_data"
    }
   ],
   "source": [
    "#Plot the results as a histogram with bins=12.\n",
    "plt.hist(tobs_by_max_station, bins=12)\n",
    "plt.show()"
   ]
  },
  {
   "cell_type": "code",
   "execution_count": null,
   "metadata": {
    "collapsed": true
   },
   "outputs": [],
   "source": []
  }
 ],
 "metadata": {
  "kernelspec": {
   "display_name": "Python 3",
   "language": "python",
   "name": "python3"
  },
  "language_info": {
   "codemirror_mode": {
    "name": "ipython",
    "version": 3
   },
   "file_extension": ".py",
   "mimetype": "text/x-python",
   "name": "python",
   "nbconvert_exporter": "python",
   "pygments_lexer": "ipython3",
   "version": "3.6.3"
  }
 },
 "nbformat": 4,
 "nbformat_minor": 2
}
